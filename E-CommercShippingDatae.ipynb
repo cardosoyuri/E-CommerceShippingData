{
 "cells": [
  {
   "cell_type": "markdown",
   "id": "beautiful-tomato",
   "metadata": {
    "ExecuteTime": {
     "end_time": "2021-01-20T00:32:10.414233Z",
     "start_time": "2021-01-20T00:32:10.396250Z"
    }
   },
   "source": [
    "# 0.0 IMPORTS"
   ]
  },
  {
   "cell_type": "markdown",
   "id": "nutritional-promise",
   "metadata": {},
   "source": [
    "## 0.1 HELPER FUNCTIONS"
   ]
  },
  {
   "cell_type": "markdown",
   "id": "elegant-interference",
   "metadata": {},
   "source": [
    "## 0.2 LOADING DATA"
   ]
  },
  {
   "cell_type": "markdown",
   "id": "derived-summary",
   "metadata": {},
   "source": [
    "# 1.0 DESCRICAO DOS DADOS"
   ]
  },
  {
   "cell_type": "markdown",
   "id": "consecutive-phrase",
   "metadata": {
    "ExecuteTime": {
     "end_time": "2021-01-20T00:37:56.195998Z",
     "start_time": "2021-01-20T00:37:56.186004Z"
    }
   },
   "source": [
    "## 1.1 Rename Columns"
   ]
  },
  {
   "cell_type": "markdown",
   "id": "laden-quality",
   "metadata": {
    "ExecuteTime": {
     "end_time": "2021-01-20T00:37:56.195998Z",
     "start_time": "2021-01-20T00:37:56.186004Z"
    }
   },
   "source": [
    "## 1.2 Data Dimensions"
   ]
  },
  {
   "cell_type": "markdown",
   "id": "skilled-withdrawal",
   "metadata": {
    "ExecuteTime": {
     "end_time": "2021-01-20T00:37:56.195998Z",
     "start_time": "2021-01-20T00:37:56.186004Z"
    }
   },
   "source": [
    "## 1.3 Data Types"
   ]
  },
  {
   "cell_type": "markdown",
   "id": "meaning-sugar",
   "metadata": {
    "ExecuteTime": {
     "end_time": "2021-01-20T00:37:56.195998Z",
     "start_time": "2021-01-20T00:37:56.186004Z"
    }
   },
   "source": [
    "## 1.4 Check NA"
   ]
  },
  {
   "cell_type": "markdown",
   "id": "mathematical-wings",
   "metadata": {
    "ExecuteTime": {
     "end_time": "2021-01-20T00:37:56.195998Z",
     "start_time": "2021-01-20T00:37:56.186004Z"
    }
   },
   "source": [
    "## 1.5 Fillout NA"
   ]
  },
  {
   "cell_type": "markdown",
   "id": "velvet-ideal",
   "metadata": {
    "ExecuteTime": {
     "end_time": "2021-01-20T00:37:56.195998Z",
     "start_time": "2021-01-20T00:37:56.186004Z"
    }
   },
   "source": [
    "## 1.6 Change Types\n"
   ]
  },
  {
   "cell_type": "markdown",
   "id": "modular-tribune",
   "metadata": {
    "ExecuteTime": {
     "end_time": "2021-01-20T00:37:56.195998Z",
     "start_time": "2021-01-20T00:37:56.186004Z"
    }
   },
   "source": [
    "## 1.7 Descriptive Statistical"
   ]
  },
  {
   "cell_type": "markdown",
   "id": "electronic-auction",
   "metadata": {},
   "source": [
    "### 1.7.1 Numerical Attributes"
   ]
  },
  {
   "cell_type": "markdown",
   "id": "compatible-alarm",
   "metadata": {},
   "source": [
    "### 1.7.2 Categorical Attribute"
   ]
  },
  {
   "cell_type": "markdown",
   "id": "infrared-protein",
   "metadata": {
    "ExecuteTime": {
     "end_time": "2021-01-21T05:19:43.402914Z",
     "start_time": "2021-01-21T05:19:43.387921Z"
    }
   },
   "source": [
    "# 2.0  FEATURE ENGINEERING"
   ]
  },
  {
   "cell_type": "markdown",
   "id": "verified-blink",
   "metadata": {
    "ExecuteTime": {
     "end_time": "2021-01-21T23:35:56.351591Z",
     "start_time": "2021-01-21T23:35:56.331359Z"
    }
   },
   "source": [
    "## 2.1 Mapa mental de Hipóteses"
   ]
  },
  {
   "cell_type": "markdown",
   "id": "outside-tunnel",
   "metadata": {
    "ExecuteTime": {
     "end_time": "2021-01-21T23:35:56.351591Z",
     "start_time": "2021-01-21T23:35:56.331359Z"
    }
   },
   "source": [
    "## 2.2 Criação de hipóteses"
   ]
  },
  {
   "cell_type": "markdown",
   "id": "affiliated-thousand",
   "metadata": {},
   "source": [
    "## 2.3 Lista final de hipóteses"
   ]
  },
  {
   "cell_type": "markdown",
   "id": "motivated-backing",
   "metadata": {},
   "source": [
    "## 2.4 Feature Engineering"
   ]
  },
  {
   "cell_type": "markdown",
   "id": "educated-retreat",
   "metadata": {},
   "source": [
    "# 3.0 FILTRAGEM DE VARIÁVEIS"
   ]
  },
  {
   "cell_type": "markdown",
   "id": "bigger-sharing",
   "metadata": {
    "ExecuteTime": {
     "end_time": "2021-01-22T23:43:05.251251Z",
     "start_time": "2021-01-22T23:43:05.237544Z"
    }
   },
   "source": [
    "## 3.1 Filtragem das linhas"
   ]
  },
  {
   "cell_type": "markdown",
   "id": "equipped-disclaimer",
   "metadata": {},
   "source": [
    "## 3.2 selecao das colunas"
   ]
  },
  {
   "cell_type": "markdown",
   "id": "corrected-measure",
   "metadata": {},
   "source": [
    "# 4.0 ANALISE EXPLORATORIA DOS DADOS"
   ]
  },
  {
   "cell_type": "markdown",
   "id": "particular-rebecca",
   "metadata": {},
   "source": [
    "## 4.1 Analise Univarida"
   ]
  },
  {
   "cell_type": "markdown",
   "id": "essential-alberta",
   "metadata": {},
   "source": [
    "### 4.1.1 Response variable"
   ]
  },
  {
   "cell_type": "markdown",
   "id": "herbal-absence",
   "metadata": {},
   "source": [
    "### 4.1.2 Numerical variable"
   ]
  },
  {
   "cell_type": "markdown",
   "id": "sonic-twenty",
   "metadata": {},
   "source": [
    "### 4.1.3 Categorical Variable"
   ]
  },
  {
   "cell_type": "markdown",
   "id": "helpful-trigger",
   "metadata": {
    "ExecuteTime": {
     "end_time": "2021-01-23T02:04:00.202648Z",
     "start_time": "2021-01-23T02:04:00.191656Z"
    }
   },
   "source": [
    "## 4.2 Analise Bivarida"
   ]
  },
  {
   "cell_type": "markdown",
   "id": "imported-maine",
   "metadata": {
    "ExecuteTime": {
     "end_time": "2021-01-23T02:04:19.761183Z",
     "start_time": "2021-01-23T02:04:19.751188Z"
    }
   },
   "source": [
    "## 4.3 Analise Multivarida"
   ]
  },
  {
   "cell_type": "markdown",
   "id": "constitutional-apple",
   "metadata": {},
   "source": [
    "### 4.3.1 Numerical Attributes"
   ]
  },
  {
   "cell_type": "markdown",
   "id": "alternate-adult",
   "metadata": {},
   "source": [
    "### 4.3.2 Categorical Attributes"
   ]
  },
  {
   "cell_type": "markdown",
   "id": "maritime-ultimate",
   "metadata": {},
   "source": [
    "# 5.0 DATA PREPARATION"
   ]
  },
  {
   "cell_type": "markdown",
   "id": "recorded-century",
   "metadata": {},
   "source": [
    "## 5.1 Normalização"
   ]
  },
  {
   "cell_type": "markdown",
   "id": "painted-revision",
   "metadata": {},
   "source": [
    "## 5.2 Rescaling"
   ]
  },
  {
   "cell_type": "markdown",
   "id": "intended-creativity",
   "metadata": {},
   "source": [
    "## 5.3 Transformação"
   ]
  },
  {
   "cell_type": "markdown",
   "id": "bound-strength",
   "metadata": {
    "ExecuteTime": {
     "end_time": "2021-01-27T04:44:55.356058Z",
     "start_time": "2021-01-27T04:37:45.327Z"
    }
   },
   "source": [
    "### 5.3.1 Encoding"
   ]
  },
  {
   "cell_type": "markdown",
   "id": "promotional-repeat",
   "metadata": {},
   "source": [
    "### 5.3.2 Response Variable Transformation"
   ]
  },
  {
   "cell_type": "markdown",
   "id": "indoor-admission",
   "metadata": {},
   "source": [
    "### 5.3.3 Nature Transformation"
   ]
  },
  {
   "cell_type": "markdown",
   "id": "academic-robin",
   "metadata": {},
   "source": [
    "# 6.0 SELECAO DE VARIAVEIS"
   ]
  },
  {
   "cell_type": "markdown",
   "id": "structured-pantyhose",
   "metadata": {},
   "source": [
    "## 6.1 Split dataframe into training and test dataset"
   ]
  },
  {
   "cell_type": "markdown",
   "id": "innovative-deposit",
   "metadata": {},
   "source": [
    "## 6.2 Boruta as Feature Selector"
   ]
  },
  {
   "cell_type": "markdown",
   "id": "vital-pride",
   "metadata": {},
   "source": [
    "### 6.2.1 Best Features from Boruta"
   ]
  },
  {
   "cell_type": "markdown",
   "id": "hundred-repository",
   "metadata": {},
   "source": [
    "## 6.3 Manual Feature Selection"
   ]
  },
  {
   "cell_type": "markdown",
   "id": "naughty-original",
   "metadata": {},
   "source": [
    "# 7.0 MACHINE LEARNING MODELING"
   ]
  },
  {
   "cell_type": "markdown",
   "id": "elegant-france",
   "metadata": {},
   "source": [
    "## 7.1 Avarege Model"
   ]
  },
  {
   "cell_type": "markdown",
   "id": "human-affect",
   "metadata": {},
   "source": [
    "## 7.2 Linear Regression Model"
   ]
  },
  {
   "cell_type": "markdown",
   "id": "alone-bathroom",
   "metadata": {},
   "source": [
    "### 7.2.1 Linear Regression Model - Cross Validation"
   ]
  },
  {
   "cell_type": "markdown",
   "id": "injured-limitation",
   "metadata": {},
   "source": [
    "## 7.3 Linear Regression Regularized Model - Lasso"
   ]
  },
  {
   "cell_type": "markdown",
   "id": "sapphire-border",
   "metadata": {},
   "source": [
    "### 7.3.1 Lasso - Cross Validation"
   ]
  },
  {
   "cell_type": "markdown",
   "id": "wrapped-supply",
   "metadata": {
    "ExecuteTime": {
     "end_time": "2021-01-29T04:51:11.928251Z",
     "start_time": "2021-01-29T04:45:36.992Z"
    }
   },
   "source": [
    "## 7.4 Random Forest Regressor"
   ]
  },
  {
   "cell_type": "markdown",
   "id": "sonic-camel",
   "metadata": {},
   "source": [
    "###  7.4.1 Random Forest Regressor - Cross Validation"
   ]
  },
  {
   "cell_type": "markdown",
   "id": "particular-travel",
   "metadata": {},
   "source": [
    "## 7.5 XGBoost Regressor"
   ]
  },
  {
   "cell_type": "markdown",
   "id": "sealed-raise",
   "metadata": {},
   "source": [
    "### 7.5.1 XGBoost Regressor - Cross Validation"
   ]
  },
  {
   "cell_type": "markdown",
   "id": "passing-shooting",
   "metadata": {},
   "source": [
    "## 7.6 Compare Model's Performace"
   ]
  },
  {
   "cell_type": "markdown",
   "id": "sudden-programmer",
   "metadata": {},
   "source": [
    "### 7.6.1 Single Performance"
   ]
  },
  {
   "cell_type": "markdown",
   "id": "palestinian-football",
   "metadata": {
    "ExecuteTime": {
     "end_time": "2021-02-02T23:40:14.840645Z",
     "start_time": "2021-02-02T23:39:46.189859Z"
    }
   },
   "source": [
    "### 7.6.2 Real Performance - Cross Validation"
   ]
  },
  {
   "cell_type": "markdown",
   "id": "dated-profit",
   "metadata": {},
   "source": [
    "# 8.0 HYPERPARAMETER FINE TUNING "
   ]
  },
  {
   "cell_type": "markdown",
   "id": "sunset-pound",
   "metadata": {},
   "source": [
    "## 8.1 Random Search"
   ]
  },
  {
   "cell_type": "markdown",
   "id": "cleared-running",
   "metadata": {},
   "source": [
    "## 8.2 Final Model"
   ]
  },
  {
   "cell_type": "markdown",
   "id": "dense-ukraine",
   "metadata": {},
   "source": [
    "# 9.0 TRADUÇÃO E INTERPRETAÇÃO DO ERRO "
   ]
  },
  {
   "cell_type": "markdown",
   "id": "formal-prior",
   "metadata": {},
   "source": [
    "## 9.1 Business Performace"
   ]
  },
  {
   "cell_type": "markdown",
   "id": "recreational-technician",
   "metadata": {},
   "source": [
    "## 9.2 Total Performace"
   ]
  },
  {
   "cell_type": "markdown",
   "id": "according-durham",
   "metadata": {},
   "source": [
    "## 9.3 Machine Learning Performace"
   ]
  },
  {
   "cell_type": "markdown",
   "id": "worth-daisy",
   "metadata": {},
   "source": [
    "# 10.0 DEPLOY MODEL TO PRODUCTION"
   ]
  },
  {
   "cell_type": "markdown",
   "id": "cardiovascular-subscriber",
   "metadata": {},
   "source": [
    "## 10.1 Rossmann Class"
   ]
  },
  {
   "cell_type": "markdown",
   "id": "floppy-outline",
   "metadata": {},
   "source": [
    "## 10.2 API Handler"
   ]
  },
  {
   "cell_type": "markdown",
   "id": "vietnamese-falls",
   "metadata": {},
   "source": [
    "## 10.3 API Tester"
   ]
  },
  {
   "cell_type": "code",
   "execution_count": null,
   "id": "derived-musician",
   "metadata": {},
   "outputs": [],
   "source": []
  },
  {
   "cell_type": "code",
   "execution_count": null,
   "id": "emotional-hydrogen",
   "metadata": {},
   "outputs": [],
   "source": []
  }
 ],
 "metadata": {
  "kernelspec": {
   "display_name": "Python 3",
   "language": "python",
   "name": "python3"
  },
  "language_info": {
   "codemirror_mode": {
    "name": "ipython",
    "version": 3
   },
   "file_extension": ".py",
   "mimetype": "text/x-python",
   "name": "python",
   "nbconvert_exporter": "python",
   "pygments_lexer": "ipython3",
   "version": "3.8.5"
  },
  "varInspector": {
   "cols": {
    "lenName": 16,
    "lenType": 16,
    "lenVar": 40
   },
   "kernels_config": {
    "python": {
     "delete_cmd_postfix": "",
     "delete_cmd_prefix": "del ",
     "library": "var_list.py",
     "varRefreshCmd": "print(var_dic_list())"
    },
    "r": {
     "delete_cmd_postfix": ") ",
     "delete_cmd_prefix": "rm(",
     "library": "var_list.r",
     "varRefreshCmd": "cat(var_dic_list()) "
    }
   },
   "types_to_exclude": [
    "module",
    "function",
    "builtin_function_or_method",
    "instance",
    "_Feature"
   ],
   "window_display": false
  }
 },
 "nbformat": 4,
 "nbformat_minor": 5
}
